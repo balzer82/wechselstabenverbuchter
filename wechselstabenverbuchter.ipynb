{
 "metadata": {
  "name": ""
 },
 "nbformat": 3,
 "nbformat_minor": 0,
 "worksheets": [
  {
   "cells": [
    {
     "cell_type": "code",
     "collapsed": false,
     "input": [
      "import random"
     ],
     "language": "python",
     "metadata": {},
     "outputs": [],
     "prompt_number": 1
    },
    {
     "cell_type": "code",
     "collapsed": false,
     "input": [
      "def verbuchte(string):\n",
      "    string = string.split()\n",
      "    for i in range(len(string)):\n",
      "        if len(string[i]) > 2:\n",
      "            pre = string[i][:2]\n",
      "            post = string[i][-1:]\n",
      "            mid = ''.join(random.sample(string[i][2:-1],len(string[i][2:-1])))\n",
      "            if len(mid)>1:\n",
      "                while mid == string[i][2:-1]:\n",
      "                    mid = ''.join(random.sample(string[i][2:-1],len(string[i][2:-1])))\n",
      "            string[i]=pre+mid+post\n",
      "    return ' '.join(string)"
     ],
     "language": "python",
     "metadata": {},
     "outputs": [],
     "prompt_number": 2
    },
    {
     "cell_type": "code",
     "collapsed": false,
     "input": [
      "text = u'Wie man an diesem Beispiel zweifelsfrei sieht, \\\n",
      "    ist das Gehirn relativ gut in der Lage diese W\u00f6rter zu erkennen, \\\n",
      "    selbst wenn die Buchstaben in zuf\u00e4lliger Reihenfolge sind. \\\n",
      "    Wichtig ist nur, dass Anfangs- und Endbuchstabe an der \\\n",
      "    richtigen Stelle stehen und die korrekten Buchstaben verwendet wurden. \\\n",
      "    Die Jungs bei der NSA m\u00fcssen jetzt aber alles mit deutschen \\\n",
      "    Dolmetschern checken lassen oder alle Nachrichten zuf\u00e4llig \\\n",
      "    zur\u00fcck durch sortieren. :)'\n",
      "\n",
      "\n",
      "print verbuchte(text)"
     ],
     "language": "python",
     "metadata": {},
     "outputs": [
      {
       "output_type": "stream",
       "stream": "stdout",
       "text": [
        "Wie man an diseem Beipeisl zwifeeeflsri siteh, ist das Geihrn realtiv gut in der Lage disee W\u00f6retr zu ernneenk, seblst wenn die Buatshebcn in zuil\u00e4gfelr Reofglnhiee sidn. Wictihg ist nur, dass Ansanfg- und Entbsbduhace an der rightiecn Stllee stheen und die kotererkn Buchtbeasn venerwedt wunedr. Die Jugns bei der NSA m\u00fcessn jeztt aber alels mit decuhestn Domscelehrtn chkeecn laessn oder alle Narecchihtn zuflli\u00e4g zu\u00fcrck ducrh soreitner. :)\n"
       ]
      }
     ],
     "prompt_number": 3
    },
    {
     "cell_type": "code",
     "collapsed": false,
     "input": [],
     "language": "python",
     "metadata": {},
     "outputs": [],
     "prompt_number": 3
    },
    {
     "cell_type": "code",
     "collapsed": false,
     "input": [],
     "language": "python",
     "metadata": {},
     "outputs": [],
     "prompt_number": 3
    }
   ],
   "metadata": {}
  }
 ]
}